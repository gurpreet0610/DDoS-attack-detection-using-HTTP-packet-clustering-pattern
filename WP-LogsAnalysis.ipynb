{
  "nbformat": 4,
  "nbformat_minor": 0,
  "metadata": {
    "colab": {
      "name": "wpLogsAnalysis.ipynb",
      "provenance": [],
      "collapsed_sections": [],
      "toc_visible": true,
      "authorship_tag": "ABX9TyPhHgggKOgU0n5IxEpSI0ta"
    },
    "kernelspec": {
      "name": "python3",
      "display_name": "Python 3"
    }
  },
  "cells": [
    {
      "cell_type": "markdown",
      "metadata": {
        "id": "DndZccS0tB0A",
        "colab_type": "text"
      },
      "source": [
        "## Importing Dataset"
      ]
    },
    {
      "cell_type": "code",
      "metadata": {
        "id": "AwIMIOal_o2M",
        "colab_type": "code",
        "colab": {}
      },
      "source": [
        "import pandas as pd"
      ],
      "execution_count": 11,
      "outputs": []
    },
    {
      "cell_type": "code",
      "metadata": {
        "id": "089kPxIl_32j",
        "colab_type": "code",
        "colab": {}
      },
      "source": [
        "df = pd.read_csv(\"https://raw.githubusercontent.com/gurpreet0610/DDoS-attack-detection-using-HTTP-packet-clustering-pattern/master/WP_Dataset/wplogs.csv\")"
      ],
      "execution_count": 12,
      "outputs": []
    },
    {
      "cell_type": "code",
      "metadata": {
        "id": "WbiRQV_JBgxR",
        "colab_type": "code",
        "colab": {
          "base_uri": "https://localhost:8080/",
          "height": 34
        },
        "outputId": "38c1ca44-ee01-44c5-ec2b-0d739407883a"
      },
      "source": [
        "len(df)"
      ],
      "execution_count": 13,
      "outputs": [
        {
          "output_type": "execute_result",
          "data": {
            "text/plain": [
              "14469"
            ]
          },
          "metadata": {
            "tags": []
          },
          "execution_count": 13
        }
      ]
    },
    {
      "cell_type": "code",
      "metadata": {
        "id": "pQX9GXUdAa60",
        "colab_type": "code",
        "colab": {
          "base_uri": "https://localhost:8080/",
          "height": 374
        },
        "outputId": "c85b90c2-7b53-4723-9adc-e55f22ce670e"
      },
      "source": [
        "df.info()"
      ],
      "execution_count": 14,
      "outputs": [
        {
          "output_type": "stream",
          "text": [
            "<class 'pandas.core.frame.DataFrame'>\n",
            "RangeIndex: 14469 entries, 0 to 14468\n",
            "Data columns (total 14 columns):\n",
            " #   Column               Non-Null Count  Dtype  \n",
            "---  ------               --------------  -----  \n",
            " 0   @timestamp           14469 non-null  object \n",
            " 1   @timestamp.1         14469 non-null  object \n",
            " 2   _id                  14469 non-null  object \n",
            " 3   bytes                14469 non-null  object \n",
            " 4   clientip             14469 non-null  object \n",
            " 5   geoip.country_code3  11535 non-null  object \n",
            " 6   httpversion          14453 non-null  float64\n",
            " 7   request              14453 non-null  object \n",
            " 8   response             14469 non-null  int64  \n",
            " 9   useragent.device     14469 non-null  object \n",
            " 10  useragent.name       14469 non-null  object \n",
            " 11  useragent.os         14469 non-null  object \n",
            " 12  verb                 14453 non-null  object \n",
            " 13  useragent.os_name    14469 non-null  object \n",
            "dtypes: float64(1), int64(1), object(12)\n",
            "memory usage: 1.5+ MB\n"
          ],
          "name": "stdout"
        }
      ]
    },
    {
      "cell_type": "markdown",
      "metadata": {
        "id": "_YxHX8rNtlp_",
        "colab_type": "text"
      },
      "source": [
        "## Data Preprocessing"
      ]
    },
    {
      "cell_type": "code",
      "metadata": {
        "id": "w9v6FlXpwkJK",
        "colab_type": "code",
        "colab": {}
      },
      "source": [
        "df.drop([\"@timestamp.1\",\"_id\",],axis=1,inplace=True)"
      ],
      "execution_count": 15,
      "outputs": []
    },
    {
      "cell_type": "code",
      "metadata": {
        "id": "r4MR1qkK13mR",
        "colab_type": "code",
        "colab": {}
      },
      "source": [
        "df = df[df.clientip != \"127.0.0.1\"]"
      ],
      "execution_count": 16,
      "outputs": []
    },
    {
      "cell_type": "code",
      "metadata": {
        "id": "8E8bsSZtA485",
        "colab_type": "code",
        "colab": {}
      },
      "source": [
        "df[\"geoip.country_code3\"].fillna(\"unknown\",inplace=True)"
      ],
      "execution_count": 17,
      "outputs": []
    },
    {
      "cell_type": "code",
      "metadata": {
        "id": "tpCpCDjv5A2X",
        "colab_type": "code",
        "colab": {}
      },
      "source": [
        "df[\"httpversion\"].fillna(\"error\",inplace=True)"
      ],
      "execution_count": 18,
      "outputs": []
    },
    {
      "cell_type": "code",
      "metadata": {
        "id": "_ZukFkP23tiW",
        "colab_type": "code",
        "colab": {}
      },
      "source": [
        "df[\"request\"].fillna(\"error\",inplace=True)"
      ],
      "execution_count": 19,
      "outputs": []
    },
    {
      "cell_type": "markdown",
      "metadata": {
        "id": "SYHgmRTeQ0Vb",
        "colab_type": "text"
      },
      "source": [
        "#### Country Code"
      ]
    },
    {
      "cell_type": "code",
      "metadata": {
        "id": "O1P6EqMQEIRR",
        "colab_type": "code",
        "colab": {}
      },
      "source": [
        "freq=df[\"geoip.country_code3\"].value_counts()\n",
        "cond=freq<300\n",
        "mask_obs = freq[cond].index\n",
        "mask_dict = dict.fromkeys(mask_obs, 'others')"
      ],
      "execution_count": 20,
      "outputs": []
    },
    {
      "cell_type": "code",
      "metadata": {
        "id": "h6rABKEBEQeO",
        "colab_type": "code",
        "colab": {}
      },
      "source": [
        "df['geoip.country_code3'] = df['geoip.country_code3'].replace(mask_dict)"
      ],
      "execution_count": 21,
      "outputs": []
    },
    {
      "cell_type": "code",
      "metadata": {
        "id": "AGYiw1ITQLEm",
        "colab_type": "code",
        "colab": {
          "base_uri": "https://localhost:8080/",
          "height": 102
        },
        "outputId": "7f582eed-f9c0-4015-8341-e2defea30227"
      },
      "source": [
        "df[\"geoip.country_code3\"].value_counts()"
      ],
      "execution_count": 22,
      "outputs": [
        {
          "output_type": "execute_result",
          "data": {
            "text/plain": [
              "IN         6177\n",
              "US         3170\n",
              "others     2188\n",
              "unknown     396\n",
              "Name: geoip.country_code3, dtype: int64"
            ]
          },
          "metadata": {
            "tags": []
          },
          "execution_count": 22
        }
      ]
    },
    {
      "cell_type": "markdown",
      "metadata": {
        "id": "zUY-A11IQ7-b",
        "colab_type": "text"
      },
      "source": [
        "#### Bytes Data Transfer"
      ]
    },
    {
      "cell_type": "code",
      "metadata": {
        "id": "91hDaJG8QNxP",
        "colab_type": "code",
        "colab": {}
      },
      "source": [
        "df['bytes'] = df['bytes'].str.extract('(\\d+)', expand=False)\n",
        "df['bytes']=df['bytes'].astype('int')"
      ],
      "execution_count": 23,
      "outputs": []
    },
    {
      "cell_type": "markdown",
      "metadata": {
        "id": "I4FwglBLSczL",
        "colab_type": "text"
      },
      "source": [
        "#### HTTP Version"
      ]
    },
    {
      "cell_type": "code",
      "metadata": {
        "id": "oT_BOwV_RrLm",
        "colab_type": "code",
        "colab": {
          "base_uri": "https://localhost:8080/",
          "height": 85
        },
        "outputId": "f73eaa28-014f-4981-9b57-f13ecbd31212"
      },
      "source": [
        "df['httpversion'].value_counts()"
      ],
      "execution_count": 24,
      "outputs": [
        {
          "output_type": "execute_result",
          "data": {
            "text/plain": [
              "1.1      11899\n",
              "error       16\n",
              "1.0         16\n",
              "Name: httpversion, dtype: int64"
            ]
          },
          "metadata": {
            "tags": []
          },
          "execution_count": 24
        }
      ]
    },
    {
      "cell_type": "markdown",
      "metadata": {
        "id": "S5WjDW-5Su8B",
        "colab_type": "text"
      },
      "source": [
        "#### HTTP Response"
      ]
    },
    {
      "cell_type": "code",
      "metadata": {
        "id": "11CRgoxXSrUR",
        "colab_type": "code",
        "colab": {
          "base_uri": "https://localhost:8080/",
          "height": 153
        },
        "outputId": "1975a6ef-372e-4569-a250-5bd1aadd9647"
      },
      "source": [
        "df['response'].value_counts()"
      ],
      "execution_count": 25,
      "outputs": [
        {
          "output_type": "execute_result",
          "data": {
            "text/plain": [
              "200    6353\n",
              "408    5432\n",
              "404      45\n",
              "500      38\n",
              "301      32\n",
              "400      18\n",
              "302      13\n",
              "Name: response, dtype: int64"
            ]
          },
          "metadata": {
            "tags": []
          },
          "execution_count": 25
        }
      ]
    },
    {
      "cell_type": "markdown",
      "metadata": {
        "id": "bhf7JBeuTHat",
        "colab_type": "text"
      },
      "source": [
        "#### User Agent    "
      ]
    },
    {
      "cell_type": "code",
      "metadata": {
        "id": "JZzAOZDVS3cu",
        "colab_type": "code",
        "colab": {
          "base_uri": "https://localhost:8080/",
          "height": 663
        },
        "outputId": "6364d1b4-6bf7-42f8-cb2b-c1fe2989b461"
      },
      "source": [
        "df['useragent.device'].value_counts()"
      ],
      "execution_count": 26,
      "outputs": [
        {
          "output_type": "execute_result",
          "data": {
            "text/plain": [
              "Other                    10407\n",
              "Generic Smartphone         455\n",
              "iPhone                     360\n",
              "iPad                       108\n",
              "Samsung SM-G950F            80\n",
              "Samsung SM-G973F            53\n",
              "EML-AL00                    34\n",
              "BlackBerry Playbook         30\n",
              "Nokia N950                  30\n",
              "Spider                      30\n",
              "Samsung SM-T537A            27\n",
              "A500                        20\n",
              "Nokia E63                   20\n",
              "Samsung SGH-A867            20\n",
              "OnePlus ONEPLUS A5010       18\n",
              "Samsung SM-G900F            17\n",
              "Samsung SM-J530F            17\n",
              "Samsung SM-J337AZ           15\n",
              "Samsung SCH-R970            10\n",
              "Lumia 920                   10\n",
              "Motorola Milestone          10\n",
              "sdk                         10\n",
              "Lumia 530                   10\n",
              "Samsung GT-P7100            10\n",
              "Nokia 920                   10\n",
              "Samsung Galaxy S II         10\n",
              "Nokia 6230i                 10\n",
              "Samsung SM-G9550            10\n",
              "Samsung SPH-M900            10\n",
              "HTC ADR6300                 10\n",
              "Ericsson K800i              10\n",
              "Motorola Droid              10\n",
              "Lumia 929                   10\n",
              "Samsung GT-I5700            10\n",
              "HTC Dream                   10\n",
              "Motorola V177               10\n",
              "Generic Tablet              10\n",
              "Name: useragent.device, dtype: int64"
            ]
          },
          "metadata": {
            "tags": []
          },
          "execution_count": 26
        }
      ]
    },
    {
      "cell_type": "code",
      "metadata": {
        "id": "DmeQPWXzURxP",
        "colab_type": "code",
        "colab": {}
      },
      "source": [
        "df =df.drop(['useragent.device'],axis=1)"
      ],
      "execution_count": 27,
      "outputs": []
    },
    {
      "cell_type": "code",
      "metadata": {
        "id": "VIw2mOm4T0Q2",
        "colab_type": "code",
        "colab": {
          "base_uri": "https://localhost:8080/",
          "height": 714
        },
        "outputId": "987c21c3-362c-49b7-ace4-15e24cd4e487"
      },
      "source": [
        "df['useragent.name'].value_counts()"
      ],
      "execution_count": 28,
      "outputs": [
        {
          "output_type": "execute_result",
          "data": {
            "text/plain": [
              "Chrome                   7982\n",
              "Firefox                  1352\n",
              "Chrome Mobile             470\n",
              "Mobile Safari             381\n",
              "Other                     273\n",
              "IE                        217\n",
              "Opera                     213\n",
              "Edge                      144\n",
              "Samsung Internet          133\n",
              "Android                   110\n",
              "Chrome Mobile iOS          77\n",
              "Safari                     74\n",
              "UC Browser                 54\n",
              "IE Mobile                  50\n",
              "QupZilla                   31\n",
              "Arora                      30\n",
              "Nokia Browser              30\n",
              "BlackBerry WebKit          30\n",
              "WordPress                  26\n",
              "Chromium                   25\n",
              "Konqueror                  23\n",
              "Puffin                     20\n",
              "Maxthon                    15\n",
              "Chrome Mobile WebView      15\n",
              "Coc Coc                    15\n",
              "Yandex Browser             15\n",
              "NetFront                   10\n",
              "UP.Browser                 10\n",
              "Iceweasel                  10\n",
              "Vivaldi                    10\n",
              "Opera Mobile               10\n",
              "iTunes                     10\n",
              "Lynx                       10\n",
              "Edge Mobile                10\n",
              "Phoenix                    10\n",
              "Firefox (Minefield)        10\n",
              "SeaMonkey                  10\n",
              "Nokia                      10\n",
              "Iceape                      4\n",
              "Nimbostratus-Bot            2\n",
              "Name: useragent.name, dtype: int64"
            ]
          },
          "metadata": {
            "tags": []
          },
          "execution_count": 28
        }
      ]
    },
    {
      "cell_type": "code",
      "metadata": {
        "id": "k-GmpSW3UepR",
        "colab_type": "code",
        "colab": {}
      },
      "source": [
        "freq=df[\"useragent.name\"].value_counts()\n",
        "cond=freq<300\n",
        "mask_obs = freq[cond].index\n",
        "mask_dict = dict.fromkeys(mask_obs, 'others')\n",
        "df['useragent.name'] = df['useragent.name'].replace(mask_dict)"
      ],
      "execution_count": 29,
      "outputs": []
    },
    {
      "cell_type": "code",
      "metadata": {
        "colab_type": "code",
        "id": "sB7oz20SUnGb",
        "colab": {
          "base_uri": "https://localhost:8080/",
          "height": 119
        },
        "outputId": "a14bcd60-aab7-40a2-9f2b-69b78ddb4385"
      },
      "source": [
        "df['useragent.name'].value_counts()"
      ],
      "execution_count": 30,
      "outputs": [
        {
          "output_type": "execute_result",
          "data": {
            "text/plain": [
              "Chrome           7982\n",
              "others           1746\n",
              "Firefox          1352\n",
              "Chrome Mobile     470\n",
              "Mobile Safari     381\n",
              "Name: useragent.name, dtype: int64"
            ]
          },
          "metadata": {
            "tags": []
          },
          "execution_count": 30
        }
      ]
    },
    {
      "cell_type": "code",
      "metadata": {
        "id": "WQxunmv1UFvl",
        "colab_type": "code",
        "colab": {
          "base_uri": "https://localhost:8080/",
          "height": 357
        },
        "outputId": "42e9ebd6-06b9-46dd-9161-2127724f90b1"
      },
      "source": [
        "df['useragent.os'].value_counts()"
      ],
      "execution_count": 31,
      "outputs": [
        {
          "output_type": "execute_result",
          "data": {
            "text/plain": [
              "Mac OS X                5743\n",
              "Windows                 3722\n",
              "Android                  806\n",
              "Linux                    519\n",
              "iOS                      458\n",
              "Other                    341\n",
              "Ubuntu                   110\n",
              "Windows Phone             40\n",
              "Symbian OS                30\n",
              "MeeGo                     30\n",
              "BlackBerry Tablet OS      30\n",
              "Fedora                    20\n",
              "OpenBSD                   20\n",
              "Chrome OS                 12\n",
              "FreeBSD                   10\n",
              "Debian                    10\n",
              "Linux Mint                10\n",
              "Slackware                 10\n",
              "Solaris                   10\n",
              "Name: useragent.os, dtype: int64"
            ]
          },
          "metadata": {
            "tags": []
          },
          "execution_count": 31
        }
      ]
    },
    {
      "cell_type": "code",
      "metadata": {
        "id": "wAq0Vi4aTQRS",
        "colab_type": "code",
        "colab": {}
      },
      "source": [
        "freq=df[\"useragent.os\"].value_counts()\n",
        "cond=freq<350\n",
        "mask_obs = freq[cond].index\n",
        "mask_dict = dict.fromkeys(mask_obs, 'others')\n",
        "df['useragent.os'] = df['useragent.os'].replace(mask_dict)"
      ],
      "execution_count": 32,
      "outputs": []
    },
    {
      "cell_type": "code",
      "metadata": {
        "id": "cLsxcr4zU8jw",
        "colab_type": "code",
        "colab": {
          "base_uri": "https://localhost:8080/",
          "height": 136
        },
        "outputId": "6c27e179-e506-4013-ae65-2f025719e283"
      },
      "source": [
        "df['useragent.os'].value_counts()"
      ],
      "execution_count": 33,
      "outputs": [
        {
          "output_type": "execute_result",
          "data": {
            "text/plain": [
              "Mac OS X    5743\n",
              "Windows     3722\n",
              "Android      806\n",
              "others       683\n",
              "Linux        519\n",
              "iOS          458\n",
              "Name: useragent.os, dtype: int64"
            ]
          },
          "metadata": {
            "tags": []
          },
          "execution_count": 33
        }
      ]
    },
    {
      "cell_type": "code",
      "metadata": {
        "id": "VDgDiBjnU-fu",
        "colab_type": "code",
        "colab": {
          "base_uri": "https://localhost:8080/",
          "height": 357
        },
        "outputId": "770c9bb0-b025-47dd-fdf7-81ea81a64fef"
      },
      "source": [
        "df['useragent.os_name'].value_counts()"
      ],
      "execution_count": 34,
      "outputs": [
        {
          "output_type": "execute_result",
          "data": {
            "text/plain": [
              "Mac OS X                5743\n",
              "Windows                 3722\n",
              "Android                  806\n",
              "Linux                    519\n",
              "iOS                      458\n",
              "Other                    341\n",
              "Ubuntu                   110\n",
              "Windows Phone             40\n",
              "Symbian OS                30\n",
              "MeeGo                     30\n",
              "BlackBerry Tablet OS      30\n",
              "Fedora                    20\n",
              "OpenBSD                   20\n",
              "Chrome OS                 12\n",
              "FreeBSD                   10\n",
              "Debian                    10\n",
              "Linux Mint                10\n",
              "Slackware                 10\n",
              "Solaris                   10\n",
              "Name: useragent.os_name, dtype: int64"
            ]
          },
          "metadata": {
            "tags": []
          },
          "execution_count": 34
        }
      ]
    },
    {
      "cell_type": "code",
      "metadata": {
        "id": "XLvaZqSjVGje",
        "colab_type": "code",
        "colab": {}
      },
      "source": [
        "df =df.drop(['useragent.os_name'],axis=1)"
      ],
      "execution_count": 35,
      "outputs": []
    },
    {
      "cell_type": "code",
      "metadata": {
        "id": "a2PgUTy1VU15",
        "colab_type": "code",
        "colab": {
          "base_uri": "https://localhost:8080/",
          "height": 102
        },
        "outputId": "0f3f92ec-3df0-443b-f975-e71cd4ec23a7"
      },
      "source": [
        "df['verb'].value_counts()"
      ],
      "execution_count": 36,
      "outputs": [
        {
          "output_type": "execute_result",
          "data": {
            "text/plain": [
              "GET        11832\n",
              "POST          66\n",
              "CONNECT       10\n",
              "HEAD           7\n",
              "Name: verb, dtype: int64"
            ]
          },
          "metadata": {
            "tags": []
          },
          "execution_count": 36
        }
      ]
    },
    {
      "cell_type": "code",
      "metadata": {
        "id": "6Mjvtvt6VajN",
        "colab_type": "code",
        "colab": {
          "base_uri": "https://localhost:8080/",
          "height": 68
        },
        "outputId": "d18aa7a0-2e5f-4363-c12c-1efcf70bb5b2"
      },
      "source": [
        "df.columns"
      ],
      "execution_count": 37,
      "outputs": [
        {
          "output_type": "execute_result",
          "data": {
            "text/plain": [
              "Index(['@timestamp', 'bytes', 'clientip', 'geoip.country_code3', 'httpversion',\n",
              "       'request', 'response', 'useragent.name', 'useragent.os', 'verb'],\n",
              "      dtype='object')"
            ]
          },
          "metadata": {
            "tags": []
          },
          "execution_count": 37
        }
      ]
    },
    {
      "cell_type": "code",
      "metadata": {
        "id": "W5oZHHvy7dyd",
        "colab_type": "code",
        "colab": {}
      },
      "source": [
        "# df.to_csv(\"/content/preprocess.csv\")"
      ],
      "execution_count": 38,
      "outputs": []
    },
    {
      "cell_type": "code",
      "metadata": {
        "id": "ehKEGNRA9kgv",
        "colab_type": "code",
        "colab": {}
      },
      "source": [
        "df =pd.get_dummies(df, columns=['geoip.country_code3', 'httpversion',\n",
        "        'response', 'useragent.name', 'useragent.os', 'verb'],drop_first=True)"
      ],
      "execution_count": 39,
      "outputs": []
    },
    {
      "cell_type": "code",
      "metadata": {
        "id": "hQEANGSHMIIZ",
        "colab_type": "code",
        "colab": {
          "base_uri": "https://localhost:8080/",
          "height": 411
        },
        "outputId": "f0b6f7e4-4a03-450b-cf8c-1ee71c099fec"
      },
      "source": [
        "df.head()"
      ],
      "execution_count": 40,
      "outputs": [
        {
          "output_type": "execute_result",
          "data": {
            "text/html": [
              "<div>\n",
              "<style scoped>\n",
              "    .dataframe tbody tr th:only-of-type {\n",
              "        vertical-align: middle;\n",
              "    }\n",
              "\n",
              "    .dataframe tbody tr th {\n",
              "        vertical-align: top;\n",
              "    }\n",
              "\n",
              "    .dataframe thead th {\n",
              "        text-align: right;\n",
              "    }\n",
              "</style>\n",
              "<table border=\"1\" class=\"dataframe\">\n",
              "  <thead>\n",
              "    <tr style=\"text-align: right;\">\n",
              "      <th></th>\n",
              "      <th>@timestamp</th>\n",
              "      <th>bytes</th>\n",
              "      <th>clientip</th>\n",
              "      <th>request</th>\n",
              "      <th>geoip.country_code3_US</th>\n",
              "      <th>geoip.country_code3_others</th>\n",
              "      <th>geoip.country_code3_unknown</th>\n",
              "      <th>httpversion_1.1</th>\n",
              "      <th>httpversion_error</th>\n",
              "      <th>response_301</th>\n",
              "      <th>response_302</th>\n",
              "      <th>response_400</th>\n",
              "      <th>response_404</th>\n",
              "      <th>response_408</th>\n",
              "      <th>response_500</th>\n",
              "      <th>useragent.name_Chrome Mobile</th>\n",
              "      <th>useragent.name_Firefox</th>\n",
              "      <th>useragent.name_Mobile Safari</th>\n",
              "      <th>useragent.name_others</th>\n",
              "      <th>useragent.os_Linux</th>\n",
              "      <th>useragent.os_Mac OS X</th>\n",
              "      <th>useragent.os_Windows</th>\n",
              "      <th>useragent.os_iOS</th>\n",
              "      <th>useragent.os_others</th>\n",
              "      <th>verb_GET</th>\n",
              "      <th>verb_HEAD</th>\n",
              "      <th>verb_POST</th>\n",
              "    </tr>\n",
              "  </thead>\n",
              "  <tbody>\n",
              "    <tr>\n",
              "      <th>18</th>\n",
              "      <td>Jun 20, 2020 @ 14:45:53.000</td>\n",
              "      <td>0</td>\n",
              "      <td>103.224.146.167</td>\n",
              "      <td>error</td>\n",
              "      <td>0</td>\n",
              "      <td>0</td>\n",
              "      <td>0</td>\n",
              "      <td>0</td>\n",
              "      <td>1</td>\n",
              "      <td>0</td>\n",
              "      <td>0</td>\n",
              "      <td>0</td>\n",
              "      <td>0</td>\n",
              "      <td>1</td>\n",
              "      <td>0</td>\n",
              "      <td>0</td>\n",
              "      <td>0</td>\n",
              "      <td>0</td>\n",
              "      <td>1</td>\n",
              "      <td>0</td>\n",
              "      <td>0</td>\n",
              "      <td>0</td>\n",
              "      <td>0</td>\n",
              "      <td>1</td>\n",
              "      <td>0</td>\n",
              "      <td>0</td>\n",
              "      <td>0</td>\n",
              "    </tr>\n",
              "    <tr>\n",
              "      <th>50</th>\n",
              "      <td>Jun 20, 2020 @ 14:45:21.000</td>\n",
              "      <td>410</td>\n",
              "      <td>195.54.160.135</td>\n",
              "      <td>/vendor/phpunit/phpunit/src/Util/PHP/eval-stdi...</td>\n",
              "      <td>0</td>\n",
              "      <td>0</td>\n",
              "      <td>1</td>\n",
              "      <td>1</td>\n",
              "      <td>0</td>\n",
              "      <td>1</td>\n",
              "      <td>0</td>\n",
              "      <td>0</td>\n",
              "      <td>0</td>\n",
              "      <td>0</td>\n",
              "      <td>0</td>\n",
              "      <td>0</td>\n",
              "      <td>0</td>\n",
              "      <td>0</td>\n",
              "      <td>0</td>\n",
              "      <td>0</td>\n",
              "      <td>0</td>\n",
              "      <td>1</td>\n",
              "      <td>0</td>\n",
              "      <td>0</td>\n",
              "      <td>1</td>\n",
              "      <td>0</td>\n",
              "      <td>0</td>\n",
              "    </tr>\n",
              "    <tr>\n",
              "      <th>52</th>\n",
              "      <td>Jun 20, 2020 @ 14:45:21.000</td>\n",
              "      <td>15</td>\n",
              "      <td>195.54.160.135</td>\n",
              "      <td>/vendor/phpunit/phpunit/src/Util/PHP/eval-stdi...</td>\n",
              "      <td>0</td>\n",
              "      <td>0</td>\n",
              "      <td>1</td>\n",
              "      <td>1</td>\n",
              "      <td>0</td>\n",
              "      <td>0</td>\n",
              "      <td>0</td>\n",
              "      <td>0</td>\n",
              "      <td>1</td>\n",
              "      <td>0</td>\n",
              "      <td>0</td>\n",
              "      <td>0</td>\n",
              "      <td>0</td>\n",
              "      <td>0</td>\n",
              "      <td>0</td>\n",
              "      <td>0</td>\n",
              "      <td>0</td>\n",
              "      <td>1</td>\n",
              "      <td>0</td>\n",
              "      <td>0</td>\n",
              "      <td>1</td>\n",
              "      <td>0</td>\n",
              "      <td>0</td>\n",
              "    </tr>\n",
              "    <tr>\n",
              "      <th>70</th>\n",
              "      <td>Jun 20, 2020 @ 14:45:03.000</td>\n",
              "      <td>99</td>\n",
              "      <td>103.224.146.167</td>\n",
              "      <td>/wp-content/themes/amphibious/webfonts/fa-soli...</td>\n",
              "      <td>0</td>\n",
              "      <td>0</td>\n",
              "      <td>0</td>\n",
              "      <td>1</td>\n",
              "      <td>0</td>\n",
              "      <td>0</td>\n",
              "      <td>0</td>\n",
              "      <td>0</td>\n",
              "      <td>0</td>\n",
              "      <td>0</td>\n",
              "      <td>0</td>\n",
              "      <td>0</td>\n",
              "      <td>0</td>\n",
              "      <td>0</td>\n",
              "      <td>0</td>\n",
              "      <td>1</td>\n",
              "      <td>0</td>\n",
              "      <td>0</td>\n",
              "      <td>0</td>\n",
              "      <td>0</td>\n",
              "      <td>1</td>\n",
              "      <td>0</td>\n",
              "      <td>0</td>\n",
              "    </tr>\n",
              "    <tr>\n",
              "      <th>71</th>\n",
              "      <td>Jun 20, 2020 @ 14:45:03.000</td>\n",
              "      <td>194</td>\n",
              "      <td>103.224.146.167</td>\n",
              "      <td>/wp-content/themes/amphibious/webfonts/fa-soli...</td>\n",
              "      <td>0</td>\n",
              "      <td>0</td>\n",
              "      <td>0</td>\n",
              "      <td>1</td>\n",
              "      <td>0</td>\n",
              "      <td>0</td>\n",
              "      <td>0</td>\n",
              "      <td>0</td>\n",
              "      <td>0</td>\n",
              "      <td>0</td>\n",
              "      <td>0</td>\n",
              "      <td>0</td>\n",
              "      <td>0</td>\n",
              "      <td>0</td>\n",
              "      <td>0</td>\n",
              "      <td>1</td>\n",
              "      <td>0</td>\n",
              "      <td>0</td>\n",
              "      <td>0</td>\n",
              "      <td>0</td>\n",
              "      <td>1</td>\n",
              "      <td>0</td>\n",
              "      <td>0</td>\n",
              "    </tr>\n",
              "  </tbody>\n",
              "</table>\n",
              "</div>"
            ],
            "text/plain": [
              "                     @timestamp  bytes  ... verb_HEAD verb_POST\n",
              "18  Jun 20, 2020 @ 14:45:53.000      0  ...         0         0\n",
              "50  Jun 20, 2020 @ 14:45:21.000    410  ...         0         0\n",
              "52  Jun 20, 2020 @ 14:45:21.000     15  ...         0         0\n",
              "70  Jun 20, 2020 @ 14:45:03.000     99  ...         0         0\n",
              "71  Jun 20, 2020 @ 14:45:03.000    194  ...         0         0\n",
              "\n",
              "[5 rows x 27 columns]"
            ]
          },
          "metadata": {
            "tags": []
          },
          "execution_count": 40
        }
      ]
    },
    {
      "cell_type": "code",
      "metadata": {
        "id": "8n44zTxiUgvm",
        "colab_type": "code",
        "colab": {}
      },
      "source": [
        "#df.to_csv(\"/content/encoded.csv\")"
      ],
      "execution_count": 41,
      "outputs": []
    },
    {
      "cell_type": "code",
      "metadata": {
        "id": "PsF7_9GWYiCK",
        "colab_type": "code",
        "colab": {}
      },
      "source": [
        "edf=df.drop([\"@timestamp\",\"request\",\"clientip\"],axis=1)"
      ],
      "execution_count": 42,
      "outputs": []
    },
    {
      "cell_type": "code",
      "metadata": {
        "id": "MaCurzZULLo3",
        "colab_type": "code",
        "colab": {
          "base_uri": "https://localhost:8080/",
          "height": 34
        },
        "outputId": "3c65b97f-ec6c-4ef5-a361-c7311200ae17"
      },
      "source": [
        "len(df)"
      ],
      "execution_count": 43,
      "outputs": [
        {
          "output_type": "execute_result",
          "data": {
            "text/plain": [
              "11931"
            ]
          },
          "metadata": {
            "tags": []
          },
          "execution_count": 43
        }
      ]
    },
    {
      "cell_type": "markdown",
      "metadata": {
        "id": "83Axk1RevTw4",
        "colab_type": "text"
      },
      "source": [
        "## Scaling Dataset and Fitting it"
      ]
    },
    {
      "cell_type": "code",
      "metadata": {
        "id": "70QYdEpyKYc2",
        "colab_type": "code",
        "colab": {}
      },
      "source": [
        "import pandas as pd\n",
        "from sklearn import preprocessing\n",
        "x = edf.values #returns a numpy array\n",
        "min_max_scaler = preprocessing.MinMaxScaler()\n",
        "x_scaled = min_max_scaler.fit_transform(x)\n",
        "df_norm = pd.DataFrame(x_scaled,columns=edf.columns)"
      ],
      "execution_count": 44,
      "outputs": []
    },
    {
      "cell_type": "code",
      "metadata": {
        "id": "ZNuW7jzCbqSZ",
        "colab_type": "code",
        "colab": {
          "base_uri": "https://localhost:8080/",
          "height": 68
        },
        "outputId": "72bb4002-73d8-48b1-adf8-e0fe58ecca1d"
      },
      "source": [
        "from sklearn.cluster import KMeans\n",
        "Kmean = KMeans(n_clusters=4)\n",
        "Kmean.fit(df_norm)"
      ],
      "execution_count": 45,
      "outputs": [
        {
          "output_type": "execute_result",
          "data": {
            "text/plain": [
              "KMeans(algorithm='auto', copy_x=True, init='k-means++', max_iter=300,\n",
              "       n_clusters=4, n_init=10, n_jobs=None, precompute_distances='auto',\n",
              "       random_state=None, tol=0.0001, verbose=0)"
            ]
          },
          "metadata": {
            "tags": []
          },
          "execution_count": 45
        }
      ]
    },
    {
      "cell_type": "code",
      "metadata": {
        "id": "auyvl-fjb-1n",
        "colab_type": "code",
        "colab": {
          "base_uri": "https://localhost:8080/",
          "height": 561
        },
        "outputId": "99f02b84-97fa-4285-8cdf-8d93b18db888"
      },
      "source": [
        "Kmean.cluster_centers_"
      ],
      "execution_count": 46,
      "outputs": [
        {
          "output_type": "execute_result",
          "data": {
            "text/plain": [
              "array([[ 2.72320682e-02,  6.89434889e-01,  3.49720253e-15,\n",
              "         8.55036855e-02,  9.89189189e-01,  5.40540541e-03,\n",
              "         5.89680590e-03,  4.42260442e-03,  6.38820639e-03,\n",
              "         8.35380835e-03,  6.19164619e-02,  1.47420147e-03,\n",
              "         2.02948403e-01,  1.34152334e-01,  1.73464373e-01,\n",
              "         3.20884521e-01,  1.59705160e-01,  1.20393120e-01,\n",
              "        -1.11022302e-14,  1.91154791e-01,  2.21621622e-01,\n",
              "         9.68058968e-01,  9.82800983e-04,  2.06388206e-02],\n",
              "       [ 8.21815180e-05,  3.02535774e-14, -2.28705943e-14,\n",
              "         6.77710843e-03,  1.00000000e+00, -1.79760720e-16,\n",
              "        -3.59521440e-16, -6.76542156e-17, -3.49113100e-17,\n",
              "         4.43221848e-16,  9.93222892e-01,  1.33140027e-16,\n",
              "         1.65839564e-15,  3.57680723e-03, -2.51187959e-15,\n",
              "         1.18793864e-14,  1.88253012e-04,  9.99811747e-01,\n",
              "        -1.28785871e-14,  1.93595140e-15,  4.87804241e-15,\n",
              "         1.00000000e+00,  2.77555756e-17,  2.70616862e-16],\n",
              "       [ 1.38235764e-02, -8.88178420e-16,  8.82970137e-01,\n",
              "         1.97740113e-02,  9.96368039e-01,  2.01775626e-03,\n",
              "         4.43906376e-03,  4.03551251e-04,  2.01775626e-03,\n",
              "         8.87812752e-03,  9.68523002e-03,  9.28167877e-03,\n",
              "         2.30024213e-02,  1.42453592e-01,  1.12994350e-02,\n",
              "         3.95480226e-01,  7.78853914e-02,  7.54640839e-02,\n",
              "         6.52138822e-01,  2.78450363e-02,  9.36238902e-02,\n",
              "         9.87086360e-01,  2.01775626e-03,  8.87812752e-03],\n",
              "       [ 1.74358010e-02,  8.39031339e-01,  3.52495810e-15,\n",
              "         6.50522317e-02,  9.99525166e-01,  1.36609474e-17,\n",
              "         4.27350427e-03,  1.42450142e-03, -3.07913417e-17,\n",
              "         2.84900285e-03,  2.84900285e-03,  5.69800570e-03,\n",
              "        -7.21644966e-16,  3.35707502e-01,  7.49400542e-16,\n",
              "         5.36562203e-02,  1.42247325e-15, -1.24344979e-14,\n",
              "         1.00000000e+00,  1.26287869e-15,  2.64371858e-15,\n",
              "         9.99050332e-01,  1.73472348e-17,  9.49667616e-04]])"
            ]
          },
          "metadata": {
            "tags": []
          },
          "execution_count": 46
        }
      ]
    },
    {
      "cell_type": "markdown",
      "metadata": {
        "id": "MslQolafflYc",
        "colab_type": "text"
      },
      "source": [
        "## Test"
      ]
    },
    {
      "cell_type": "code",
      "metadata": {
        "id": "ZapETQ1jgV9Y",
        "colab_type": "code",
        "colab": {}
      },
      "source": [
        "y_kmeans = Kmean.predict(df_norm)"
      ],
      "execution_count": 47,
      "outputs": []
    },
    {
      "cell_type": "code",
      "metadata": {
        "id": "04KM35V7JXV1",
        "colab_type": "code",
        "colab": {
          "base_uri": "https://localhost:8080/",
          "height": 34
        },
        "outputId": "7fb9586f-28b1-4ada-84f8-d86f5a0f7997"
      },
      "source": [
        "type(df[\"clientip\"].values)"
      ],
      "execution_count": 48,
      "outputs": [
        {
          "output_type": "execute_result",
          "data": {
            "text/plain": [
              "numpy.ndarray"
            ]
          },
          "metadata": {
            "tags": []
          },
          "execution_count": 48
        }
      ]
    },
    {
      "cell_type": "code",
      "metadata": {
        "id": "2v5A-pGEHC0V",
        "colab_type": "code",
        "colab": {}
      },
      "source": [
        "fdf =pd.DataFrame({\"ip\":df[\"clientip\"].values,\"result\":y_kmeans})"
      ],
      "execution_count": 49,
      "outputs": []
    },
    {
      "cell_type": "code",
      "metadata": {
        "id": "4zrWn95RHiyN",
        "colab_type": "code",
        "colab": {
          "base_uri": "https://localhost:8080/",
          "height": 419
        },
        "outputId": "b11b2402-9c6b-4aeb-ef99-3b8cfd9e5f90"
      },
      "source": [
        "fdf[fdf[\"result\"]==1]"
      ],
      "execution_count": 52,
      "outputs": [
        {
          "output_type": "execute_result",
          "data": {
            "text/html": [
              "<div>\n",
              "<style scoped>\n",
              "    .dataframe tbody tr th:only-of-type {\n",
              "        vertical-align: middle;\n",
              "    }\n",
              "\n",
              "    .dataframe tbody tr th {\n",
              "        vertical-align: top;\n",
              "    }\n",
              "\n",
              "    .dataframe thead th {\n",
              "        text-align: right;\n",
              "    }\n",
              "</style>\n",
              "<table border=\"1\" class=\"dataframe\">\n",
              "  <thead>\n",
              "    <tr style=\"text-align: right;\">\n",
              "      <th></th>\n",
              "      <th>ip</th>\n",
              "      <th>result</th>\n",
              "    </tr>\n",
              "  </thead>\n",
              "  <tbody>\n",
              "    <tr>\n",
              "      <th>0</th>\n",
              "      <td>103.224.146.167</td>\n",
              "      <td>0</td>\n",
              "    </tr>\n",
              "    <tr>\n",
              "      <th>3</th>\n",
              "      <td>103.224.146.167</td>\n",
              "      <td>0</td>\n",
              "    </tr>\n",
              "    <tr>\n",
              "      <th>4</th>\n",
              "      <td>103.224.146.167</td>\n",
              "      <td>0</td>\n",
              "    </tr>\n",
              "    <tr>\n",
              "      <th>5</th>\n",
              "      <td>103.224.146.167</td>\n",
              "      <td>0</td>\n",
              "    </tr>\n",
              "    <tr>\n",
              "      <th>6</th>\n",
              "      <td>103.224.146.167</td>\n",
              "      <td>0</td>\n",
              "    </tr>\n",
              "    <tr>\n",
              "      <th>...</th>\n",
              "      <td>...</td>\n",
              "      <td>...</td>\n",
              "    </tr>\n",
              "    <tr>\n",
              "      <th>5757</th>\n",
              "      <td>103.224.146.167</td>\n",
              "      <td>1</td>\n",
              "    </tr>\n",
              "    <tr>\n",
              "      <th>11920</th>\n",
              "      <td>103.224.146.167</td>\n",
              "      <td>0</td>\n",
              "    </tr>\n",
              "    <tr>\n",
              "      <th>11927</th>\n",
              "      <td>103.224.146.167</td>\n",
              "      <td>0</td>\n",
              "    </tr>\n",
              "    <tr>\n",
              "      <th>11928</th>\n",
              "      <td>103.224.146.167</td>\n",
              "      <td>0</td>\n",
              "    </tr>\n",
              "    <tr>\n",
              "      <th>11930</th>\n",
              "      <td>103.224.146.167</td>\n",
              "      <td>0</td>\n",
              "    </tr>\n",
              "  </tbody>\n",
              "</table>\n",
              "<p>5700 rows × 2 columns</p>\n",
              "</div>"
            ],
            "text/plain": [
              "                    ip  result\n",
              "0      103.224.146.167       0\n",
              "3      103.224.146.167       0\n",
              "4      103.224.146.167       0\n",
              "5      103.224.146.167       0\n",
              "6      103.224.146.167       0\n",
              "...                ...     ...\n",
              "5757   103.224.146.167       1\n",
              "11920  103.224.146.167       0\n",
              "11927  103.224.146.167       0\n",
              "11928  103.224.146.167       0\n",
              "11930  103.224.146.167       0\n",
              "\n",
              "[5700 rows x 2 columns]"
            ]
          },
          "metadata": {
            "tags": []
          },
          "execution_count": 52
        }
      ]
    },
    {
      "cell_type": "code",
      "metadata": {
        "id": "umlxwpzpIM8B",
        "colab_type": "code",
        "colab": {
          "base_uri": "https://localhost:8080/",
          "height": 419
        },
        "outputId": "67985b09-d4b7-4c9e-bb2b-c054be6ba146"
      },
      "source": [
        "fdf[fdf[\"result\"]==0]"
      ],
      "execution_count": 53,
      "outputs": [
        {
          "output_type": "execute_result",
          "data": {
            "text/html": [
              "<div>\n",
              "<style scoped>\n",
              "    .dataframe tbody tr th:only-of-type {\n",
              "        vertical-align: middle;\n",
              "    }\n",
              "\n",
              "    .dataframe tbody tr th {\n",
              "        vertical-align: top;\n",
              "    }\n",
              "\n",
              "    .dataframe thead th {\n",
              "        text-align: right;\n",
              "    }\n",
              "</style>\n",
              "<table border=\"1\" class=\"dataframe\">\n",
              "  <thead>\n",
              "    <tr style=\"text-align: right;\">\n",
              "      <th></th>\n",
              "      <th>ip</th>\n",
              "      <th>result</th>\n",
              "    </tr>\n",
              "  </thead>\n",
              "  <tbody>\n",
              "    <tr>\n",
              "      <th>0</th>\n",
              "      <td>103.224.146.167</td>\n",
              "      <td>0</td>\n",
              "    </tr>\n",
              "    <tr>\n",
              "      <th>3</th>\n",
              "      <td>103.224.146.167</td>\n",
              "      <td>0</td>\n",
              "    </tr>\n",
              "    <tr>\n",
              "      <th>4</th>\n",
              "      <td>103.224.146.167</td>\n",
              "      <td>0</td>\n",
              "    </tr>\n",
              "    <tr>\n",
              "      <th>5</th>\n",
              "      <td>103.224.146.167</td>\n",
              "      <td>0</td>\n",
              "    </tr>\n",
              "    <tr>\n",
              "      <th>6</th>\n",
              "      <td>103.224.146.167</td>\n",
              "      <td>0</td>\n",
              "    </tr>\n",
              "    <tr>\n",
              "      <th>...</th>\n",
              "      <td>...</td>\n",
              "      <td>...</td>\n",
              "    </tr>\n",
              "    <tr>\n",
              "      <th>11926</th>\n",
              "      <td>142.93.113.16</td>\n",
              "      <td>0</td>\n",
              "    </tr>\n",
              "    <tr>\n",
              "      <th>11927</th>\n",
              "      <td>103.224.146.167</td>\n",
              "      <td>0</td>\n",
              "    </tr>\n",
              "    <tr>\n",
              "      <th>11928</th>\n",
              "      <td>103.224.146.167</td>\n",
              "      <td>0</td>\n",
              "    </tr>\n",
              "    <tr>\n",
              "      <th>11929</th>\n",
              "      <td>13.233.254.101</td>\n",
              "      <td>0</td>\n",
              "    </tr>\n",
              "    <tr>\n",
              "      <th>11930</th>\n",
              "      <td>103.224.146.167</td>\n",
              "      <td>0</td>\n",
              "    </tr>\n",
              "  </tbody>\n",
              "</table>\n",
              "<p>2035 rows × 2 columns</p>\n",
              "</div>"
            ],
            "text/plain": [
              "                    ip  result\n",
              "0      103.224.146.167       0\n",
              "3      103.224.146.167       0\n",
              "4      103.224.146.167       0\n",
              "5      103.224.146.167       0\n",
              "6      103.224.146.167       0\n",
              "...                ...     ...\n",
              "11926    142.93.113.16       0\n",
              "11927  103.224.146.167       0\n",
              "11928  103.224.146.167       0\n",
              "11929   13.233.254.101       0\n",
              "11930  103.224.146.167       0\n",
              "\n",
              "[2035 rows x 2 columns]"
            ]
          },
          "metadata": {
            "tags": []
          },
          "execution_count": 53
        }
      ]
    },
    {
      "cell_type": "code",
      "metadata": {
        "id": "-v1hxE2ILIaS",
        "colab_type": "code",
        "colab": {}
      },
      "source": [
        ""
      ],
      "execution_count": null,
      "outputs": []
    }
  ]
}